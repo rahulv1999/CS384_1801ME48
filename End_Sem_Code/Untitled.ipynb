{
 "cells": [
  {
   "cell_type": "code",
   "execution_count": 35,
   "metadata": {},
   "outputs": [],
   "source": [
    "import pandas as pd\n",
    "import numpy as np"
   ]
  },
  {
   "cell_type": "code",
   "execution_count": 36,
   "metadata": {},
   "outputs": [
    {
     "data": {
      "text/html": [
       "<div>\n",
       "<style scoped>\n",
       "    .dataframe tbody tr th:only-of-type {\n",
       "        vertical-align: middle;\n",
       "    }\n",
       "\n",
       "    .dataframe tbody tr th {\n",
       "        vertical-align: top;\n",
       "    }\n",
       "\n",
       "    .dataframe thead th {\n",
       "        text-align: right;\n",
       "    }\n",
       "</style>\n",
       "<table border=\"1\" class=\"dataframe\">\n",
       "  <thead>\n",
       "    <tr style=\"text-align: right;\">\n",
       "      <th></th>\n",
       "      <th>Roll</th>\n",
       "      <th>Name</th>\n",
       "      <th>Email</th>\n",
       "    </tr>\n",
       "  </thead>\n",
       "  <tbody>\n",
       "    <tr>\n",
       "      <th>0</th>\n",
       "      <td>2001CB01</td>\n",
       "      <td>Aron Dowbakin</td>\n",
       "      <td>adowbakin0@noaa.gov</td>\n",
       "    </tr>\n",
       "    <tr>\n",
       "      <th>1</th>\n",
       "      <td>2001CB02</td>\n",
       "      <td>Ramsey Sacks</td>\n",
       "      <td>rsacks1@epa.gov</td>\n",
       "    </tr>\n",
       "    <tr>\n",
       "      <th>2</th>\n",
       "      <td>2001CB03</td>\n",
       "      <td>Denys Fisby</td>\n",
       "      <td>dfisby2@yellowpages.com</td>\n",
       "    </tr>\n",
       "    <tr>\n",
       "      <th>3</th>\n",
       "      <td>2001CB04</td>\n",
       "      <td>Carissa Hibbart</td>\n",
       "      <td>chibbart3@blogtalkradio.com</td>\n",
       "    </tr>\n",
       "    <tr>\n",
       "      <th>4</th>\n",
       "      <td>2001CB05</td>\n",
       "      <td>Armstrong Covil</td>\n",
       "      <td>acovil4@google.cn</td>\n",
       "    </tr>\n",
       "    <tr>\n",
       "      <th>...</th>\n",
       "      <td>...</td>\n",
       "      <td>...</td>\n",
       "      <td>...</td>\n",
       "    </tr>\n",
       "    <tr>\n",
       "      <th>412</th>\n",
       "      <td>2001MM36</td>\n",
       "      <td>Man Baldelli</td>\n",
       "      <td>mbaldellibg@163.com</td>\n",
       "    </tr>\n",
       "    <tr>\n",
       "      <th>413</th>\n",
       "      <td>2001MM37</td>\n",
       "      <td>Michel Osichev</td>\n",
       "      <td>mosichevbh@berkeley.edu</td>\n",
       "    </tr>\n",
       "    <tr>\n",
       "      <th>414</th>\n",
       "      <td>2001MM38</td>\n",
       "      <td>Patsy Stoade</td>\n",
       "      <td>pstoadebi@cbc.ca</td>\n",
       "    </tr>\n",
       "    <tr>\n",
       "      <th>415</th>\n",
       "      <td>2001MM39</td>\n",
       "      <td>Randi Rippin</td>\n",
       "      <td>rrippinbj@google.es</td>\n",
       "    </tr>\n",
       "    <tr>\n",
       "      <th>416</th>\n",
       "      <td>2001MM40</td>\n",
       "      <td>Oswald Spencers</td>\n",
       "      <td>ospencersbk@tumblr.com</td>\n",
       "    </tr>\n",
       "  </tbody>\n",
       "</table>\n",
       "<p>417 rows × 3 columns</p>\n",
       "</div>"
      ],
      "text/plain": [
       "         Roll             Name                        Email\n",
       "0    2001CB01    Aron Dowbakin          adowbakin0@noaa.gov\n",
       "1    2001CB02     Ramsey Sacks              rsacks1@epa.gov\n",
       "2    2001CB03      Denys Fisby      dfisby2@yellowpages.com\n",
       "3    2001CB04  Carissa Hibbart  chibbart3@blogtalkradio.com\n",
       "4    2001CB05  Armstrong Covil            acovil4@google.cn\n",
       "..        ...              ...                          ...\n",
       "412  2001MM36     Man Baldelli          mbaldellibg@163.com\n",
       "413  2001MM37   Michel Osichev      mosichevbh@berkeley.edu\n",
       "414  2001MM38     Patsy Stoade             pstoadebi@cbc.ca\n",
       "415  2001MM39     Randi Rippin          rrippinbj@google.es\n",
       "416  2001MM40  Oswald Spencers       ospencersbk@tumblr.com\n",
       "\n",
       "[417 rows x 3 columns]"
      ]
     },
     "execution_count": 36,
     "metadata": {},
     "output_type": "execute_result"
    }
   ],
   "source": [
    "df = pd.read_csv('Btech_2020_master_data.csv')\n",
    "df"
   ]
  },
  {
   "cell_type": "code",
   "execution_count": 37,
   "metadata": {},
   "outputs": [
    {
     "data": {
      "text/html": [
       "<div>\n",
       "<style scoped>\n",
       "    .dataframe tbody tr th:only-of-type {\n",
       "        vertical-align: middle;\n",
       "    }\n",
       "\n",
       "    .dataframe tbody tr th {\n",
       "        vertical-align: top;\n",
       "    }\n",
       "\n",
       "    .dataframe thead th {\n",
       "        text-align: right;\n",
       "    }\n",
       "</style>\n",
       "<table border=\"1\" class=\"dataframe\">\n",
       "  <thead>\n",
       "    <tr style=\"text-align: right;\">\n",
       "      <th></th>\n",
       "      <th>Roll</th>\n",
       "      <th>Name</th>\n",
       "      <th>Email</th>\n",
       "      <th>branch</th>\n",
       "    </tr>\n",
       "  </thead>\n",
       "  <tbody>\n",
       "    <tr>\n",
       "      <th>0</th>\n",
       "      <td>2001CB01</td>\n",
       "      <td>Aron Dowbakin</td>\n",
       "      <td>adowbakin0@noaa.gov</td>\n",
       "      <td>CB</td>\n",
       "    </tr>\n",
       "    <tr>\n",
       "      <th>1</th>\n",
       "      <td>2001CB02</td>\n",
       "      <td>Ramsey Sacks</td>\n",
       "      <td>rsacks1@epa.gov</td>\n",
       "      <td>CB</td>\n",
       "    </tr>\n",
       "    <tr>\n",
       "      <th>2</th>\n",
       "      <td>2001CB03</td>\n",
       "      <td>Denys Fisby</td>\n",
       "      <td>dfisby2@yellowpages.com</td>\n",
       "      <td>CB</td>\n",
       "    </tr>\n",
       "    <tr>\n",
       "      <th>3</th>\n",
       "      <td>2001CB04</td>\n",
       "      <td>Carissa Hibbart</td>\n",
       "      <td>chibbart3@blogtalkradio.com</td>\n",
       "      <td>CB</td>\n",
       "    </tr>\n",
       "    <tr>\n",
       "      <th>4</th>\n",
       "      <td>2001CB05</td>\n",
       "      <td>Armstrong Covil</td>\n",
       "      <td>acovil4@google.cn</td>\n",
       "      <td>CB</td>\n",
       "    </tr>\n",
       "    <tr>\n",
       "      <th>...</th>\n",
       "      <td>...</td>\n",
       "      <td>...</td>\n",
       "      <td>...</td>\n",
       "      <td>...</td>\n",
       "    </tr>\n",
       "    <tr>\n",
       "      <th>412</th>\n",
       "      <td>2001MM36</td>\n",
       "      <td>Man Baldelli</td>\n",
       "      <td>mbaldellibg@163.com</td>\n",
       "      <td>MM</td>\n",
       "    </tr>\n",
       "    <tr>\n",
       "      <th>413</th>\n",
       "      <td>2001MM37</td>\n",
       "      <td>Michel Osichev</td>\n",
       "      <td>mosichevbh@berkeley.edu</td>\n",
       "      <td>MM</td>\n",
       "    </tr>\n",
       "    <tr>\n",
       "      <th>414</th>\n",
       "      <td>2001MM38</td>\n",
       "      <td>Patsy Stoade</td>\n",
       "      <td>pstoadebi@cbc.ca</td>\n",
       "      <td>MM</td>\n",
       "    </tr>\n",
       "    <tr>\n",
       "      <th>415</th>\n",
       "      <td>2001MM39</td>\n",
       "      <td>Randi Rippin</td>\n",
       "      <td>rrippinbj@google.es</td>\n",
       "      <td>MM</td>\n",
       "    </tr>\n",
       "    <tr>\n",
       "      <th>416</th>\n",
       "      <td>2001MM40</td>\n",
       "      <td>Oswald Spencers</td>\n",
       "      <td>ospencersbk@tumblr.com</td>\n",
       "      <td>MM</td>\n",
       "    </tr>\n",
       "  </tbody>\n",
       "</table>\n",
       "<p>417 rows × 4 columns</p>\n",
       "</div>"
      ],
      "text/plain": [
       "         Roll             Name                        Email branch\n",
       "0    2001CB01    Aron Dowbakin          adowbakin0@noaa.gov     CB\n",
       "1    2001CB02     Ramsey Sacks              rsacks1@epa.gov     CB\n",
       "2    2001CB03      Denys Fisby      dfisby2@yellowpages.com     CB\n",
       "3    2001CB04  Carissa Hibbart  chibbart3@blogtalkradio.com     CB\n",
       "4    2001CB05  Armstrong Covil            acovil4@google.cn     CB\n",
       "..        ...              ...                          ...    ...\n",
       "412  2001MM36     Man Baldelli          mbaldellibg@163.com     MM\n",
       "413  2001MM37   Michel Osichev      mosichevbh@berkeley.edu     MM\n",
       "414  2001MM38     Patsy Stoade             pstoadebi@cbc.ca     MM\n",
       "415  2001MM39     Randi Rippin          rrippinbj@google.es     MM\n",
       "416  2001MM40  Oswald Spencers       ospencersbk@tumblr.com     MM\n",
       "\n",
       "[417 rows x 4 columns]"
      ]
     },
     "execution_count": 37,
     "metadata": {},
     "output_type": "execute_result"
    }
   ],
   "source": [
    "df['branch'] = df['Roll'].apply(lambda x : x[4:6])\n",
    "df"
   ]
  },
  {
   "cell_type": "code",
   "execution_count": 38,
   "metadata": {},
   "outputs": [
    {
     "data": {
      "text/html": [
       "<div>\n",
       "<style scoped>\n",
       "    .dataframe tbody tr th:only-of-type {\n",
       "        vertical-align: middle;\n",
       "    }\n",
       "\n",
       "    .dataframe tbody tr th {\n",
       "        vertical-align: top;\n",
       "    }\n",
       "\n",
       "    .dataframe thead th {\n",
       "        text-align: right;\n",
       "    }\n",
       "</style>\n",
       "<table border=\"1\" class=\"dataframe\">\n",
       "  <thead>\n",
       "    <tr style=\"text-align: right;\">\n",
       "      <th></th>\n",
       "      <th>Roll</th>\n",
       "      <th>Name</th>\n",
       "      <th>Email</th>\n",
       "      <th>branch</th>\n",
       "    </tr>\n",
       "  </thead>\n",
       "  <tbody>\n",
       "    <tr>\n",
       "      <th>0</th>\n",
       "      <td>2001CB01</td>\n",
       "      <td>Aron Dowbakin</td>\n",
       "      <td>adowbakin0@noaa.gov</td>\n",
       "      <td>CB</td>\n",
       "    </tr>\n",
       "    <tr>\n",
       "      <th>1</th>\n",
       "      <td>2001CB02</td>\n",
       "      <td>Ramsey Sacks</td>\n",
       "      <td>rsacks1@epa.gov</td>\n",
       "      <td>CB</td>\n",
       "    </tr>\n",
       "    <tr>\n",
       "      <th>2</th>\n",
       "      <td>2001CB03</td>\n",
       "      <td>Denys Fisby</td>\n",
       "      <td>dfisby2@yellowpages.com</td>\n",
       "      <td>CB</td>\n",
       "    </tr>\n",
       "    <tr>\n",
       "      <th>3</th>\n",
       "      <td>2001CB04</td>\n",
       "      <td>Carissa Hibbart</td>\n",
       "      <td>chibbart3@blogtalkradio.com</td>\n",
       "      <td>CB</td>\n",
       "    </tr>\n",
       "    <tr>\n",
       "      <th>4</th>\n",
       "      <td>2001CB05</td>\n",
       "      <td>Armstrong Covil</td>\n",
       "      <td>acovil4@google.cn</td>\n",
       "      <td>CB</td>\n",
       "    </tr>\n",
       "    <tr>\n",
       "      <th>...</th>\n",
       "      <td>...</td>\n",
       "      <td>...</td>\n",
       "      <td>...</td>\n",
       "      <td>...</td>\n",
       "    </tr>\n",
       "    <tr>\n",
       "      <th>412</th>\n",
       "      <td>2001MM36</td>\n",
       "      <td>Man Baldelli</td>\n",
       "      <td>mbaldellibg@163.com</td>\n",
       "      <td>MM</td>\n",
       "    </tr>\n",
       "    <tr>\n",
       "      <th>413</th>\n",
       "      <td>2001MM37</td>\n",
       "      <td>Michel Osichev</td>\n",
       "      <td>mosichevbh@berkeley.edu</td>\n",
       "      <td>MM</td>\n",
       "    </tr>\n",
       "    <tr>\n",
       "      <th>414</th>\n",
       "      <td>2001MM38</td>\n",
       "      <td>Patsy Stoade</td>\n",
       "      <td>pstoadebi@cbc.ca</td>\n",
       "      <td>MM</td>\n",
       "    </tr>\n",
       "    <tr>\n",
       "      <th>415</th>\n",
       "      <td>2001MM39</td>\n",
       "      <td>Randi Rippin</td>\n",
       "      <td>rrippinbj@google.es</td>\n",
       "      <td>MM</td>\n",
       "    </tr>\n",
       "    <tr>\n",
       "      <th>416</th>\n",
       "      <td>2001MM40</td>\n",
       "      <td>Oswald Spencers</td>\n",
       "      <td>ospencersbk@tumblr.com</td>\n",
       "      <td>MM</td>\n",
       "    </tr>\n",
       "  </tbody>\n",
       "</table>\n",
       "<p>417 rows × 4 columns</p>\n",
       "</div>"
      ],
      "text/plain": [
       "         Roll             Name                        Email branch\n",
       "0    2001CB01    Aron Dowbakin          adowbakin0@noaa.gov     CB\n",
       "1    2001CB02     Ramsey Sacks              rsacks1@epa.gov     CB\n",
       "2    2001CB03      Denys Fisby      dfisby2@yellowpages.com     CB\n",
       "3    2001CB04  Carissa Hibbart  chibbart3@blogtalkradio.com     CB\n",
       "4    2001CB05  Armstrong Covil            acovil4@google.cn     CB\n",
       "..        ...              ...                          ...    ...\n",
       "412  2001MM36     Man Baldelli          mbaldellibg@163.com     MM\n",
       "413  2001MM37   Michel Osichev      mosichevbh@berkeley.edu     MM\n",
       "414  2001MM38     Patsy Stoade             pstoadebi@cbc.ca     MM\n",
       "415  2001MM39     Randi Rippin          rrippinbj@google.es     MM\n",
       "416  2001MM40  Oswald Spencers       ospencersbk@tumblr.com     MM\n",
       "\n",
       "[417 rows x 4 columns]"
      ]
     },
     "execution_count": 38,
     "metadata": {},
     "output_type": "execute_result"
    }
   ],
   "source": [
    "branch = [i[4:6] for i in df['Roll']]\n",
    "df['branch'] = branch\n",
    "df"
   ]
  },
  {
   "cell_type": "code",
   "execution_count": 39,
   "metadata": {},
   "outputs": [
    {
     "data": {
      "text/plain": [
       "{'ME': 83, 'EE': 83, 'CS': 81, 'CE': 66, 'CB': 64, 'MM': 40}"
      ]
     },
     "execution_count": 39,
     "metadata": {},
     "output_type": "execute_result"
    }
   ],
   "source": [
    "branch_list = df.branch.value_counts().to_dict()\n",
    "\n",
    "branch_list\n"
   ]
  },
  {
   "cell_type": "code",
   "execution_count": 43,
   "metadata": {},
   "outputs": [
    {
     "data": {
      "text/plain": [
       "['EE', 'ME', 'CS', 'CE', 'CB', 'MM']"
      ]
     },
     "execution_count": 43,
     "metadata": {},
     "output_type": "execute_result"
    }
   ],
   "source": [
    "m = max(branch_list.values())\n",
    "eql_br=len([i for i in branch_list.values() if i ==m ])\n",
    "branch_name = list(branch_list.keys())[:eql_br]\n",
    "branch_name.sort()\n",
    "branch_name += list(branch_list.keys())[eql_br:]\n",
    "branch_name"
   ]
  },
  {
   "cell_type": "code",
   "execution_count": 42,
   "metadata": {},
   "outputs": [
    {
     "data": {
      "text/plain": [
       "[83, 83, 81, 66, 64, 40]"
      ]
     },
     "execution_count": 42,
     "metadata": {},
     "output_type": "execute_result"
    }
   ],
   "source": [
    "branchSize = list(branch_list.values())\n",
    "branchSize"
   ]
  },
  {
   "cell_type": "code",
   "execution_count": 54,
   "metadata": {},
   "outputs": [],
   "source": [
    "n = 10\n",
    "left = []\n",
    "group = []\n",
    "for i,size in enumerate(branchSize):\n",
    "    l = [int(size/n) for i in range(n)]\n",
    "    group.append(l)\n",
    "    left.append(size - n * int(size/n) )\n"
   ]
  },
  {
   "cell_type": "code",
   "execution_count": 55,
   "metadata": {},
   "outputs": [
    {
     "data": {
      "text/plain": [
       "[3, 3, 1, 6, 4, 0]"
      ]
     },
     "execution_count": 55,
     "metadata": {},
     "output_type": "execute_result"
    }
   ],
   "source": [
    "left"
   ]
  },
  {
   "cell_type": "code",
   "execution_count": 56,
   "metadata": {},
   "outputs": [
    {
     "data": {
      "text/plain": [
       "[[8, 8, 8, 8, 8, 8, 8, 8, 8, 8],\n",
       " [8, 8, 8, 8, 8, 8, 8, 8, 8, 8],\n",
       " [8, 8, 8, 8, 8, 8, 8, 8, 8, 8],\n",
       " [6, 6, 6, 6, 6, 6, 6, 6, 6, 6],\n",
       " [6, 6, 6, 6, 6, 6, 6, 6, 6, 6],\n",
       " [4, 4, 4, 4, 4, 4, 4, 4, 4, 4]]"
      ]
     },
     "execution_count": 56,
     "metadata": {},
     "output_type": "execute_result"
    }
   ],
   "source": [
    "group"
   ]
  },
  {
   "cell_type": "code",
   "execution_count": 57,
   "metadata": {},
   "outputs": [
    {
     "name": "stdout",
     "output_type": "stream",
     "text": [
      "3\n",
      "6\n",
      "7\n",
      "3\n",
      "7\n",
      "7\n"
     ]
    },
    {
     "data": {
      "text/plain": [
       "array([[9, 9, 9, 8, 8, 8, 8, 8, 8, 8],\n",
       "       [8, 8, 8, 9, 9, 9, 8, 8, 8, 8],\n",
       "       [8, 8, 8, 8, 8, 8, 9, 8, 8, 8],\n",
       "       [7, 7, 7, 6, 6, 6, 6, 7, 7, 7],\n",
       "       [6, 6, 6, 7, 7, 7, 7, 6, 6, 6],\n",
       "       [4, 4, 4, 4, 4, 4, 4, 4, 4, 4]])"
      ]
     },
     "execution_count": 57,
     "metadata": {},
     "output_type": "execute_result"
    }
   ],
   "source": [
    "start = 0\n",
    "group = np.array(group) \n",
    "for i,std in enumerate(left):\n",
    "    group[i][start:start + std] += 1\n",
    "    if start + std > n:\n",
    "        l = start + std - n\n",
    "        group[i][:l] += 1\n",
    "        start = l\n",
    "    else:\n",
    "        start = (start + std )%12 \n",
    "    print(start)\n",
    "group"
   ]
  },
  {
   "cell_type": "code",
   "execution_count": 58,
   "metadata": {},
   "outputs": [
    {
     "data": {
      "text/plain": [
       "[42, 42, 42, 42, 42, 42, 42, 41, 41, 41]"
      ]
     },
     "execution_count": 58,
     "metadata": {},
     "output_type": "execute_result"
    }
   ],
   "source": [
    "group2 = np.transpose(group)\n",
    "[sum(a) for a in group2]"
   ]
  },
  {
   "cell_type": "code",
   "execution_count": null,
   "metadata": {},
   "outputs": [],
   "source": [
    "g = []\n",
    "t_group = np.transpose(group)\n",
    "for i in range(n):\n",
    "    if i < 9 :\n",
    "        file = f'Group_G0{i+1}'\n",
    "    else:\n",
    "        file = f'Group_G{i+1}'\n",
    "    g.append(file)\n",
    "stats = pd.DataFrame(t_group,columns= list(branch_list.keys()),index = g)\n",
    "stats['total'] = [sum(a) for a in group2]\n",
    "stats"
   ]
  },
  {
   "cell_type": "code",
   "execution_count": null,
   "metadata": {},
   "outputs": [],
   "source": [
    "branch = 'CB'\n",
    "df[df.branch == branch].loc[:1]"
   ]
  },
  {
   "cell_type": "code",
   "execution_count": null,
   "metadata": {
    "tags": []
   },
   "outputs": [],
   "source": [
    "df = pd.read_csv('Btech_2020_master_data.csv')\n",
    "branch = [i[4:6] for i in df['IITP Roll no.']]\n",
    "df['branch'] = branch\n",
    "for i in range(n):\n",
    "        if i < 9 :\n",
    "            file = f'Group_G0{i+1}.csv'\n",
    "        else:\n",
    "            file = f'Group_G{i+1}.csv'\n",
    "        data = pd.DataFrame()\n",
    "        for a,s in enumerate(t_group[i]):\n",
    "            branch = list(branch_list.keys())[a]\n",
    "            branch_student = df[df.branch == branch][:s]\n",
    "            df = df.drop(df[df.branch == branch].index[:s],axis=0)\n",
    "            data = pd.concat([data,branch_student],axis=0)\n",
    "        data = data.drop(['branch'],axis=1)\n",
    "        data = data.reset_index(drop= True)\n",
    "        data.to_csv(file,index = False)\n",
    "        print(df)"
   ]
  },
  {
   "cell_type": "code",
   "execution_count": null,
   "metadata": {},
   "outputs": [],
   "source": [
    "df = pd.read_csv('Btech_2020_master_data.csv')\n",
    "branch = [i[4:6] for i in df['IITP Roll no.']]\n",
    "df['branch'] = branch\n",
    "print(len(df))\n",
    "df = df.drop(df[df.branch == 'CE'].index[:3],axis=0)\n",
    "print(len(df))"
   ]
  },
  {
   "cell_type": "code",
   "execution_count": null,
   "metadata": {},
   "outputs": [],
   "source": []
  }
 ],
 "metadata": {
  "kernelspec": {
   "display_name": "Python 3",
   "language": "python",
   "name": "python3"
  },
  "language_info": {
   "codemirror_mode": {
    "name": "ipython",
    "version": 3
   },
   "file_extension": ".py",
   "mimetype": "text/x-python",
   "name": "python",
   "nbconvert_exporter": "python",
   "pygments_lexer": "ipython3",
   "version": "3.7.6"
  }
 },
 "nbformat": 4,
 "nbformat_minor": 4
}
